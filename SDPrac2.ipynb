{
 "cells": [
  {
   "cell_type": "code",
   "execution_count": 1,
   "id": "a0478ee9",
   "metadata": {},
   "outputs": [
    {
     "name": "stderr",
     "output_type": "stream",
     "text": [
      "2021-06-15 16:52:59,141 [INFO] lithops.config -- Lithops v2.3.4\n",
      "2021-06-15 16:52:59,165 [INFO] lithops.storage.backends.ibm_cos.ibm_cos -- IBM COS Storage client created - Region: eu-de\n",
      "2021-06-15 16:52:59,168 [INFO] lithops.serverless.backends.ibm_cf.ibm_cf -- IBM CF client created - Region: eu-de - Namespace: SDPrac2\n",
      "2021-06-15 16:52:59,169 [INFO] lithops.executors -- Serverless Executor created with ID: 84b537-0\n",
      "2021-06-15 16:52:59,169 [INFO] lithops.invokers -- ExecutorID 84b537-0 | JobID M000 - Selected Runtime: ismaelhg2000/sdprac2runtime:1.0 - 256MB\n",
      "2021-06-15 16:52:59,177 [INFO] lithops.job.job -- ExecutorID 84b537-0 | JobID M000 - Uploading function and data - Total: 2.8KiB\n",
      "2021-06-15 16:53:00,240 [INFO] lithops.invokers -- ExecutorID 84b537-0 | JobID M000 - Starting function invocation: CloudWorker() - Total: 17 activations\n",
      "2021-06-15 16:53:00,249 [INFO] lithops.invokers -- ExecutorID 84b537-0 | JobID M000 - View execution logs at C:\\Users\\21May\\AppData\\Local\\Temp\\lithops\\logs\\84b537-0-M000.log\n",
      "2021-06-15 16:53:00,251 [INFO] lithops.wait -- ExecutorID 84b537-0 - Waiting for functions to complete\n"
     ]
    },
    {
     "data": {
      "application/vnd.jupyter.widget-view+json": {
       "model_id": "1d9e452a4f43446da5a21ab47c9c30ab",
       "version_major": 2,
       "version_minor": 0
      },
      "text/plain": [
       "    0%|          | 0/17  "
      ]
     },
     "metadata": {},
     "output_type": "display_data"
    },
    {
     "name": "stderr",
     "output_type": "stream",
     "text": [
      "2021-06-15 16:53:20,556 [INFO] lithops.executors -- ExecutorID 84b537-0 - Cleaning temporary data\n",
      "2021-06-15 16:53:20,561 [INFO] lithops.wait -- ExecutorID 84b537-0 - Getting results from functions\n",
      "2021-06-15 16:53:20,562 [INFO] lithops.invokers -- ExecutorID 84b537-0 | JobID M001 - Selected Runtime: ismaelhg2000/sdprac2runtime:1.0 - 256MB\n",
      "2021-06-15 16:53:20,571 [INFO] lithops.job.job -- ExecutorID 84b537-0 | JobID M001 - Uploading function and data - Total: 4.4KiB\n",
      "2021-06-15 16:53:20,844 [INFO] lithops.invokers -- ExecutorID 84b537-0 | JobID M001 - Starting function invocation: CloudWorker() - Total: 17 activations\n",
      "2021-06-15 16:53:20,855 [INFO] lithops.invokers -- ExecutorID 84b537-0 | JobID M001 - View execution logs at C:\\Users\\21May\\AppData\\Local\\Temp\\lithops\\logs\\84b537-0-M001.log\n",
      "2021-06-15 16:53:20,858 [INFO] lithops.wait -- ExecutorID 84b537-0 - Waiting for functions to complete\n"
     ]
    },
    {
     "data": {
      "application/vnd.jupyter.widget-view+json": {
       "model_id": "bc66b307b2724a81a9e11a03e33ad5f2",
       "version_major": 2,
       "version_minor": 0
      },
      "text/plain": [
       "    0%|          | 0/17  "
      ]
     },
     "metadata": {},
     "output_type": "display_data"
    },
    {
     "name": "stderr",
     "output_type": "stream",
     "text": [
      "2021-06-15 16:54:41,717 [INFO] lithops.executors -- ExecutorID 84b537-0 - Cleaning temporary data\n",
      "2021-06-15 16:54:41,721 [INFO] lithops.wait -- ExecutorID 84b537-0 - Getting results from functions\n"
     ]
    }
   ],
   "source": [
    "%run Twitter_Analyzer.py"
   ]
  },
  {
   "cell_type": "code",
   "execution_count": 2,
   "id": "f0479c98",
   "metadata": {},
   "outputs": [
    {
     "name": "stderr",
     "output_type": "stream",
     "text": [
      "2021-06-15 16:56:31,105 [INFO] lithops.config -- Lithops v2.3.4\n",
      "2021-06-15 16:56:31,114 [INFO] lithops.storage.backends.ibm_cos.ibm_cos -- IBM COS Storage client created - Region: eu-de\n",
      "2021-06-15 16:56:31,118 [INFO] lithops.serverless.backends.ibm_cf.ibm_cf -- IBM CF client created - Region: eu-de - Namespace: SDPrac2\n",
      "2021-06-15 16:56:31,119 [INFO] lithops.executors -- Serverless Executor created with ID: 84b537-1\n",
      "2021-06-15 16:56:31,120 [INFO] lithops.invokers -- ExecutorID 84b537-1 | JobID M000 - Selected Runtime: ismaelhg2000/sdprac2runtime:1.0 - 256MB\n",
      "2021-06-15 16:56:31,126 [INFO] lithops.job.job -- ExecutorID 84b537-1 | JobID M000 - Uploading function and data - Total: 4.1KiB\n",
      "2021-06-15 16:56:31,619 [INFO] lithops.invokers -- ExecutorID 84b537-1 | JobID M000 - Starting function invocation: CloudWorker() - Total: 17 activations\n",
      "2021-06-15 16:56:31,630 [INFO] lithops.invokers -- ExecutorID 84b537-1 | JobID M000 - View execution logs at C:\\Users\\21May\\AppData\\Local\\Temp\\lithops\\logs\\84b537-1-M000.log\n",
      "2021-06-15 16:56:31,633 [INFO] lithops.wait -- ExecutorID 84b537-1 - Waiting for functions to complete\n"
     ]
    },
    {
     "data": {
      "application/vnd.jupyter.widget-view+json": {
       "model_id": "86d7b96859274c3ebd594fb03427dd8a",
       "version_major": 2,
       "version_minor": 0
      },
      "text/plain": [
       "    0%|          | 0/17  "
      ]
     },
     "metadata": {},
     "output_type": "display_data"
    },
    {
     "name": "stderr",
     "output_type": "stream",
     "text": [
      "2021-06-15 16:56:37,731 [INFO] lithops.wait -- ExecutorID 84b537-1 - Getting results from functions\n"
     ]
    },
    {
     "data": {
      "application/vnd.jupyter.widget-view+json": {
       "model_id": "544a15d8f50d4c2fb7db1db0180be020",
       "version_major": 2,
       "version_minor": 0
      },
      "text/plain": [
       "    0%|          | 0/17  "
      ]
     },
     "metadata": {},
     "output_type": "display_data"
    },
    {
     "name": "stderr",
     "output_type": "stream",
     "text": [
      "2021-06-15 16:56:38,089 [INFO] lithops.executors -- ExecutorID 84b537-1 - Cleaning temporary data\n"
     ]
    }
   ],
   "source": [
    "with Pool() as pool:\n",
    "    res = pool.starmap(sentymental_mean, LISTACOMUNIDADES)"
   ]
  },
  {
   "cell_type": "code",
   "execution_count": 3,
   "id": "76ce8dc5",
   "metadata": {},
   "outputs": [
    {
     "name": "stdout",
     "output_type": "stream",
     "text": [
      "[(0.08361454545454548, 'catalunya'), (0.1611829885057471, 'andalucia'), (0.13516, 'aragon'), (0.3265166666666667, 'asturias'), (0.6705, 'cantabria'), (0.0197823529411765, 'castilla y leon'), (-0.004657142857142852, 'castilla la mancha'), (0.0332155844155844, 'valencia'), (0.07104000000000002, 'extremadura'), (0.05974062499999999, 'galicia'), (-0.05025995260663507, 'madrid'), (0.02645882352941176, 'murcia'), (0.4053875, 'navarra'), (-0.16133333333333333, 'pais vasco'), (0.02551666666666667, 'rioja'), (0.01357887931034483, 'baleares'), (0.12769696969696964, 'canarias')]\n"
     ]
    }
   ],
   "source": [
    "print(res)"
   ]
  },
  {
   "cell_type": "code",
   "execution_count": 4,
   "id": "f833fc83",
   "metadata": {},
   "outputs": [
    {
     "ename": "NameError",
     "evalue": "name 'gpd' is not defined",
     "output_type": "error",
     "traceback": [
      "\u001b[1;31m---------------------------------------------------------------------------\u001b[0m",
      "\u001b[1;31mNameError\u001b[0m                                 Traceback (most recent call last)",
      "\u001b[1;32m<ipython-input-4-266015c34cd2>\u001b[0m in \u001b[0;36m<module>\u001b[1;34m\u001b[0m\n\u001b[1;32m----> 1\u001b[1;33m \u001b[0mespania\u001b[0m \u001b[1;33m=\u001b[0m \u001b[0mgpd\u001b[0m\u001b[1;33m.\u001b[0m\u001b[0mread_file\u001b[0m\u001b[1;33m(\u001b[0m\u001b[1;34m\"data/gadm36_ESP_1.shp\"\u001b[0m\u001b[1;33m,\u001b[0m \u001b[0mencoding\u001b[0m\u001b[1;33m=\u001b[0m\u001b[1;34m'utf-8'\u001b[0m\u001b[1;33m)\u001b[0m\u001b[1;33m\u001b[0m\u001b[1;33m\u001b[0m\u001b[0m\n\u001b[0m",
      "\u001b[1;31mNameError\u001b[0m: name 'gpd' is not defined"
     ]
    }
   ],
   "source": [
    "espania = gpd.read_file(\"data/gadm36_ESP_1.shp\", encoding='utf-8')"
   ]
  },
  {
   "cell_type": "code",
   "execution_count": 5,
   "id": "b668e0cd",
   "metadata": {},
   "outputs": [],
   "source": [
    "import geopandas as gpd\n",
    "import matplotlib.pyplot as plt"
   ]
  },
  {
   "cell_type": "code",
   "execution_count": 7,
   "id": "68801eb9",
   "metadata": {},
   "outputs": [],
   "source": [
    "espania = gpd.read_file(\"data/gadm36_ESP_1.shp\", encoding='utf-8')"
   ]
  },
  {
   "cell_type": "code",
   "execution_count": 9,
   "id": "32b77f04",
   "metadata": {},
   "outputs": [
    {
     "data": {
      "text/html": [
       "<div>\n",
       "<style scoped>\n",
       "    .dataframe tbody tr th:only-of-type {\n",
       "        vertical-align: middle;\n",
       "    }\n",
       "\n",
       "    .dataframe tbody tr th {\n",
       "        vertical-align: top;\n",
       "    }\n",
       "\n",
       "    .dataframe thead th {\n",
       "        text-align: right;\n",
       "    }\n",
       "</style>\n",
       "<table border=\"1\" class=\"dataframe\">\n",
       "  <thead>\n",
       "    <tr style=\"text-align: right;\">\n",
       "      <th></th>\n",
       "      <th>GID_0</th>\n",
       "      <th>NAME_0</th>\n",
       "      <th>GID_1</th>\n",
       "      <th>NAME_1</th>\n",
       "      <th>VARNAME_1</th>\n",
       "      <th></th>\n",
       "      <th>geometry</th>\n",
       "    </tr>\n",
       "  </thead>\n",
       "  <tbody>\n",
       "    <tr>\n",
       "      <th>0</th>\n",
       "      <td>\\r ESP</td>\n",
       "      <td>Spain</td>\n",
       "      <td>ESP.1_1</td>\n",
       "      <td>andalucia</td>\n",
       "      <td>Andalousie|Andaluc¡a|Andalusien|Andaluzia     ...</td>\n",
       "      <td>None</td>\n",
       "      <td>MULTIPOLYGON (((-3.03042 35.94236, -3.03042 35...</td>\n",
       "    </tr>\n",
       "    <tr>\n",
       "      <th>1</th>\n",
       "      <td>ESP</td>\n",
       "      <td>Spain</td>\n",
       "      <td>ESP.2_1</td>\n",
       "      <td>aragon</td>\n",
       "      <td>Aragão|Aragó|Aragón|Aragona|Aragonien         ...</td>\n",
       "      <td>None</td>\n",
       "      <td>POLYGON ((0.02648 40.69497, 0.02688 40.70039, ...</td>\n",
       "    </tr>\n",
       "    <tr>\n",
       "      <th>2</th>\n",
       "      <td>ESP</td>\n",
       "      <td>Spain</td>\n",
       "      <td>ESP.3_1</td>\n",
       "      <td>cantabria</td>\n",
       "      <td>Cantàbria|Cantábria|Cantabrie|Kantabrien      ...</td>\n",
       "      <td>None</td>\n",
       "      <td>MULTIPOLYGON (((-3.90653 43.47792, -3.90653 43...</td>\n",
       "    </tr>\n",
       "    <tr>\n",
       "      <th>3</th>\n",
       "      <td>ESP</td>\n",
       "      <td>Spain</td>\n",
       "      <td>ESP.4_1</td>\n",
       "      <td>castilla la mancha</td>\n",
       "      <td>Castela-La Mancha|Castela-Mancha|Castella-la M...</td>\n",
       "      <td>None</td>\n",
       "      <td>MULTIPOLYGON (((-3.37095 40.62496, -3.38198 40...</td>\n",
       "    </tr>\n",
       "    <tr>\n",
       "      <th>4</th>\n",
       "      <td>ESP</td>\n",
       "      <td>Spain</td>\n",
       "      <td>ESP.5_1</td>\n",
       "      <td>castilla y leon</td>\n",
       "      <td>Castile and Leon|Castela e Leão|Castella i Lle...</td>\n",
       "      <td>None</td>\n",
       "      <td>MULTIPOLYGON (((-4.08899 42.79987, -4.10097 42...</td>\n",
       "    </tr>\n",
       "    <tr>\n",
       "      <th>5</th>\n",
       "      <td>ESP</td>\n",
       "      <td>Spain</td>\n",
       "      <td>ESP.6_1</td>\n",
       "      <td>catalunya</td>\n",
       "      <td>Catalogna|Catalogne|Catalonia|Catalunha|Catalu...</td>\n",
       "      <td>None</td>\n",
       "      <td>MULTIPOLYGON (((0.72958 40.78069, 0.72958 40.7...</td>\n",
       "    </tr>\n",
       "    <tr>\n",
       "      <th>6</th>\n",
       "      <td>ESP</td>\n",
       "      <td>Spain</td>\n",
       "      <td>ESP.7_1</td>\n",
       "      <td>Ceuta y Melilla</td>\n",
       "      <td>Ciudades Autónomas</td>\n",
       "      <td>None</td>\n",
       "      <td>MULTIPOLYGON (((-4.29847 35.17058, -4.29847 35...</td>\n",
       "    </tr>\n",
       "    <tr>\n",
       "      <th>7</th>\n",
       "      <td>ESP</td>\n",
       "      <td>Spain</td>\n",
       "      <td>ESP.8_1</td>\n",
       "      <td>madrid</td>\n",
       "      <td>Madrid|Communauté de Madrid| Community of Madr...</td>\n",
       "      <td>None</td>\n",
       "      <td>MULTIPOLYGON (((-4.27502 40.67631, -4.26984 40...</td>\n",
       "    </tr>\n",
       "    <tr>\n",
       "      <th>8</th>\n",
       "      <td>ESP</td>\n",
       "      <td>Spain</td>\n",
       "      <td>ESP.9_1</td>\n",
       "      <td>navarra</td>\n",
       "      <td>Communauté forale de Navarre|Comunidade Foral ...</td>\n",
       "      <td>None</td>\n",
       "      <td>POLYGON ((-1.84713 42.00800, -1.84898 42.00526...</td>\n",
       "    </tr>\n",
       "    <tr>\n",
       "      <th>9</th>\n",
       "      <td>ESP</td>\n",
       "      <td>Spain</td>\n",
       "      <td>ESP.10_1</td>\n",
       "      <td>valencia</td>\n",
       "      <td>Valencia|Communauté de Valence|Comunidade Vale...</td>\n",
       "      <td>None</td>\n",
       "      <td>MULTIPOLYGON (((-0.45708 38.16208, -0.45708 38...</td>\n",
       "    </tr>\n",
       "    <tr>\n",
       "      <th>10</th>\n",
       "      <td>ESP</td>\n",
       "      <td>Spain</td>\n",
       "      <td>ESP.11_1</td>\n",
       "      <td>extremadura</td>\n",
       "      <td>Estremadura|Estrémadure                       ...</td>\n",
       "      <td>None</td>\n",
       "      <td>POLYGON ((-7.04542 38.18510, -7.04546 38.18500...</td>\n",
       "    </tr>\n",
       "    <tr>\n",
       "      <th>11</th>\n",
       "      <td>ESP</td>\n",
       "      <td>Spain</td>\n",
       "      <td>ESP.12_1</td>\n",
       "      <td>galicia</td>\n",
       "      <td>Galice|Gal¡cia|Galicien|Galiza|Galizia        ...</td>\n",
       "      <td>None</td>\n",
       "      <td>MULTIPOLYGON (((-8.86292 42.14764, -8.86292 42...</td>\n",
       "    </tr>\n",
       "    <tr>\n",
       "      <th>12</th>\n",
       "      <td>ESP</td>\n",
       "      <td>Spain</td>\n",
       "      <td>ESP.13_1</td>\n",
       "      <td>baleares</td>\n",
       "      <td>Balearic Islands|Balearen|Balearene|Baleares|I...</td>\n",
       "      <td>None</td>\n",
       "      <td>MULTIPOLYGON (((1.42514 38.77681, 1.42514 38.7...</td>\n",
       "    </tr>\n",
       "    <tr>\n",
       "      <th>13</th>\n",
       "      <td>ESP</td>\n",
       "      <td>Spain</td>\n",
       "      <td>ESP.14_1</td>\n",
       "      <td>canarias</td>\n",
       "      <td>Canarias|Canary Islands|Canárias|Ilhas Canária...</td>\n",
       "      <td>None</td>\n",
       "      <td>MULTIPOLYGON (((-18.04792 27.69042, -18.04819 ...</td>\n",
       "    </tr>\n",
       "    <tr>\n",
       "      <th>14</th>\n",
       "      <td>ESP</td>\n",
       "      <td>Spain</td>\n",
       "      <td>ESP.15_1</td>\n",
       "      <td>rioja</td>\n",
       "      <td>Rioja                                         ...</td>\n",
       "      <td>None</td>\n",
       "      <td>POLYGON ((-2.65973 42.00536, -2.66180 42.00288...</td>\n",
       "    </tr>\n",
       "    <tr>\n",
       "      <th>15</th>\n",
       "      <td>ESP</td>\n",
       "      <td>Spain</td>\n",
       "      <td>ESP.16_1</td>\n",
       "      <td>pais vasco</td>\n",
       "      <td>Basque Country|Baskenland|Basque Autonomous Co...</td>\n",
       "      <td>None</td>\n",
       "      <td>MULTIPOLYGON (((-2.68653 43.42736, -2.68653 43...</td>\n",
       "    </tr>\n",
       "    <tr>\n",
       "      <th>16</th>\n",
       "      <td>ESP</td>\n",
       "      <td>Spain</td>\n",
       "      <td>ESP.17_1</td>\n",
       "      <td>asturias</td>\n",
       "      <td>Astúrias|Asturie|Asturien|Asturies|Astúries|As...</td>\n",
       "      <td>None</td>\n",
       "      <td>MULTIPOLYGON (((-6.03181 43.59125, -6.03181 43...</td>\n",
       "    </tr>\n",
       "  </tbody>\n",
       "</table>\n",
       "</div>"
      ],
      "text/plain": [
       "     GID_0 NAME_0     GID_1              NAME_1  \\\n",
       "0   \\r ESP  Spain   ESP.1_1           andalucia   \n",
       "1      ESP  Spain   ESP.2_1              aragon   \n",
       "2      ESP  Spain   ESP.3_1           cantabria   \n",
       "3      ESP  Spain   ESP.4_1  castilla la mancha   \n",
       "4      ESP  Spain   ESP.5_1     castilla y leon   \n",
       "5      ESP  Spain   ESP.6_1           catalunya   \n",
       "6      ESP  Spain   ESP.7_1     Ceuta y Melilla   \n",
       "7      ESP  Spain   ESP.8_1              madrid   \n",
       "8      ESP  Spain   ESP.9_1             navarra   \n",
       "9      ESP  Spain  ESP.10_1            valencia   \n",
       "10     ESP  Spain  ESP.11_1         extremadura   \n",
       "11     ESP  Spain  ESP.12_1             galicia   \n",
       "12     ESP  Spain  ESP.13_1            baleares   \n",
       "13     ESP  Spain  ESP.14_1            canarias   \n",
       "14     ESP  Spain  ESP.15_1               rioja   \n",
       "15     ESP  Spain  ESP.16_1          pais vasco   \n",
       "16     ESP  Spain  ESP.17_1            asturias   \n",
       "\n",
       "                                            VARNAME_1        \\\n",
       "0   Andalousie|Andaluc¡a|Andalusien|Andaluzia     ...  None   \n",
       "1   Aragão|Aragó|Aragón|Aragona|Aragonien         ...  None   \n",
       "2   Cantàbria|Cantábria|Cantabrie|Kantabrien      ...  None   \n",
       "3   Castela-La Mancha|Castela-Mancha|Castella-la M...  None   \n",
       "4   Castile and Leon|Castela e Leão|Castella i Lle...  None   \n",
       "5   Catalogna|Catalogne|Catalonia|Catalunha|Catalu...  None   \n",
       "6                                  Ciudades Autónomas  None   \n",
       "7   Madrid|Communauté de Madrid| Community of Madr...  None   \n",
       "8   Communauté forale de Navarre|Comunidade Foral ...  None   \n",
       "9   Valencia|Communauté de Valence|Comunidade Vale...  None   \n",
       "10  Estremadura|Estrémadure                       ...  None   \n",
       "11  Galice|Gal¡cia|Galicien|Galiza|Galizia        ...  None   \n",
       "12  Balearic Islands|Balearen|Balearene|Baleares|I...  None   \n",
       "13  Canarias|Canary Islands|Canárias|Ilhas Canária...  None   \n",
       "14  Rioja                                         ...  None   \n",
       "15  Basque Country|Baskenland|Basque Autonomous Co...  None   \n",
       "16  Astúrias|Asturie|Asturien|Asturies|Astúries|As...  None   \n",
       "\n",
       "                                             geometry  \n",
       "0   MULTIPOLYGON (((-3.03042 35.94236, -3.03042 35...  \n",
       "1   POLYGON ((0.02648 40.69497, 0.02688 40.70039, ...  \n",
       "2   MULTIPOLYGON (((-3.90653 43.47792, -3.90653 43...  \n",
       "3   MULTIPOLYGON (((-3.37095 40.62496, -3.38198 40...  \n",
       "4   MULTIPOLYGON (((-4.08899 42.79987, -4.10097 42...  \n",
       "5   MULTIPOLYGON (((0.72958 40.78069, 0.72958 40.7...  \n",
       "6   MULTIPOLYGON (((-4.29847 35.17058, -4.29847 35...  \n",
       "7   MULTIPOLYGON (((-4.27502 40.67631, -4.26984 40...  \n",
       "8   POLYGON ((-1.84713 42.00800, -1.84898 42.00526...  \n",
       "9   MULTIPOLYGON (((-0.45708 38.16208, -0.45708 38...  \n",
       "10  POLYGON ((-7.04542 38.18510, -7.04546 38.18500...  \n",
       "11  MULTIPOLYGON (((-8.86292 42.14764, -8.86292 42...  \n",
       "12  MULTIPOLYGON (((1.42514 38.77681, 1.42514 38.7...  \n",
       "13  MULTIPOLYGON (((-18.04792 27.69042, -18.04819 ...  \n",
       "14  POLYGON ((-2.65973 42.00536, -2.66180 42.00288...  \n",
       "15  MULTIPOLYGON (((-2.68653 43.42736, -2.68653 43...  \n",
       "16  MULTIPOLYGON (((-6.03181 43.59125, -6.03181 43...  "
      ]
     },
     "execution_count": 9,
     "metadata": {},
     "output_type": "execute_result"
    }
   ],
   "source": [
    "espania.head(17)"
   ]
  },
  {
   "cell_type": "code",
   "execution_count": 14,
   "id": "2d22d76e",
   "metadata": {},
   "outputs": [],
   "source": [
    "df = pd.DataFrame(res,columns=[\"Sentiment\",\"CCAA\"])"
   ]
  },
  {
   "cell_type": "code",
   "execution_count": 15,
   "id": "ce264593",
   "metadata": {},
   "outputs": [],
   "source": [
    "espania = espania.merge(df, left_on=['NAME_1'],right_on=['CCAA'], how='left')"
   ]
  },
  {
   "cell_type": "code",
   "execution_count": 16,
   "id": "e7c5db55",
   "metadata": {},
   "outputs": [],
   "source": [
    "plt.rcParams[\"figure.figsize\"]=20,20"
   ]
  },
  {
   "cell_type": "code",
   "execution_count": 29,
   "id": "fd9c8fee",
   "metadata": {},
   "outputs": [
    {
     "data": {
      "image/png": "[encoded data removed]",
      "text/plain": [
       "<Figure size 1440x1440 with 1 Axes>"
      ]
     },
     "metadata": {
      "needs_background": "light"
     },
     "output_type": "display_data"
    }
   ],
   "source": [
    "my_map = espania.plot(column=\"Sentiment\", linewidth=0.3, cmap=\"RdYlGn\", scheme=\"quantiles\", k=10, alpha=1.0)"
   ]
  },
  {
   "cell_type": "code",
   "execution_count": 20,
   "id": "948f76bd",
   "metadata": {},
   "outputs": [
    {
     "data": {
      "text/html": [
       "<div>\n",
       "<style scoped>\n",
       "    .dataframe tbody tr th:only-of-type {\n",
       "        vertical-align: middle;\n",
       "    }\n",
       "\n",
       "    .dataframe tbody tr th {\n",
       "        vertical-align: top;\n",
       "    }\n",
       "\n",
       "    .dataframe thead th {\n",
       "        text-align: right;\n",
       "    }\n",
       "</style>\n",
       "<table border=\"1\" class=\"dataframe\">\n",
       "  <thead>\n",
       "    <tr style=\"text-align: right;\">\n",
       "      <th></th>\n",
       "      <th>Sentiment</th>\n",
       "      <th>CCAA</th>\n",
       "    </tr>\n",
       "  </thead>\n",
       "  <tbody>\n",
       "    <tr>\n",
       "      <th>0</th>\n",
       "      <td>0.083615</td>\n",
       "      <td>catalunya</td>\n",
       "    </tr>\n",
       "    <tr>\n",
       "      <th>1</th>\n",
       "      <td>0.161183</td>\n",
       "      <td>andalucia</td>\n",
       "    </tr>\n",
       "    <tr>\n",
       "      <th>2</th>\n",
       "      <td>0.135160</td>\n",
       "      <td>aragon</td>\n",
       "    </tr>\n",
       "    <tr>\n",
       "      <th>3</th>\n",
       "      <td>0.326517</td>\n",
       "      <td>asturias</td>\n",
       "    </tr>\n",
       "    <tr>\n",
       "      <th>4</th>\n",
       "      <td>0.670500</td>\n",
       "      <td>cantabria</td>\n",
       "    </tr>\n",
       "    <tr>\n",
       "      <th>5</th>\n",
       "      <td>0.019782</td>\n",
       "      <td>castilla y leon</td>\n",
       "    </tr>\n",
       "    <tr>\n",
       "      <th>6</th>\n",
       "      <td>-0.004657</td>\n",
       "      <td>castilla la mancha</td>\n",
       "    </tr>\n",
       "    <tr>\n",
       "      <th>7</th>\n",
       "      <td>0.033216</td>\n",
       "      <td>valencia</td>\n",
       "    </tr>\n",
       "    <tr>\n",
       "      <th>8</th>\n",
       "      <td>0.071040</td>\n",
       "      <td>extremadura</td>\n",
       "    </tr>\n",
       "    <tr>\n",
       "      <th>9</th>\n",
       "      <td>0.059741</td>\n",
       "      <td>galicia</td>\n",
       "    </tr>\n",
       "    <tr>\n",
       "      <th>10</th>\n",
       "      <td>-0.050260</td>\n",
       "      <td>madrid</td>\n",
       "    </tr>\n",
       "    <tr>\n",
       "      <th>11</th>\n",
       "      <td>0.026459</td>\n",
       "      <td>murcia</td>\n",
       "    </tr>\n",
       "    <tr>\n",
       "      <th>12</th>\n",
       "      <td>0.405388</td>\n",
       "      <td>navarra</td>\n",
       "    </tr>\n",
       "    <tr>\n",
       "      <th>13</th>\n",
       "      <td>-0.161333</td>\n",
       "      <td>pais vasco</td>\n",
       "    </tr>\n",
       "    <tr>\n",
       "      <th>14</th>\n",
       "      <td>0.025517</td>\n",
       "      <td>rioja</td>\n",
       "    </tr>\n",
       "    <tr>\n",
       "      <th>15</th>\n",
       "      <td>0.013579</td>\n",
       "      <td>baleares</td>\n",
       "    </tr>\n",
       "    <tr>\n",
       "      <th>16</th>\n",
       "      <td>0.127697</td>\n",
       "      <td>canarias</td>\n",
       "    </tr>\n",
       "  </tbody>\n",
       "</table>\n",
       "</div>"
      ],
      "text/plain": [
       "    Sentiment                CCAA\n",
       "0    0.083615           catalunya\n",
       "1    0.161183           andalucia\n",
       "2    0.135160              aragon\n",
       "3    0.326517            asturias\n",
       "4    0.670500           cantabria\n",
       "5    0.019782     castilla y leon\n",
       "6   -0.004657  castilla la mancha\n",
       "7    0.033216            valencia\n",
       "8    0.071040         extremadura\n",
       "9    0.059741             galicia\n",
       "10  -0.050260              madrid\n",
       "11   0.026459              murcia\n",
       "12   0.405388             navarra\n",
       "13  -0.161333          pais vasco\n",
       "14   0.025517               rioja\n",
       "15   0.013579            baleares\n",
       "16   0.127697            canarias"
      ]
     },
     "execution_count": 20,
     "metadata": {},
     "output_type": "execute_result"
    }
   ],
   "source": [
    "df.head(20)"
   ]
  }
 ],
 "metadata": {
  "kernelspec": {
   "display_name": "Python 3",
   "language": "python",
   "name": "python3"
  },
  "language_info": {
   "codemirror_mode": {
    "name": "ipython",
    "version": 3
   },
   "file_extension": ".py",
   "mimetype": "text/x-python",
   "name": "python",
   "nbconvert_exporter": "python",
   "pygments_lexer": "ipython3",
   "version": "3.7.9"
  }
 },
 "nbformat": 4,
 "nbformat_minor": 5
}
