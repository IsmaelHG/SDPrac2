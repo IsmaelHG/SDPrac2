{
 "cells": [
  {
   "cell_type": "code",
   "execution_count": 1,
   "id": "3c970251",
   "metadata": {},
   "outputs": [],
   "source": [
    "# Ejecutamos el fichero principal, que nos realizara las stages 1 y 2 (recoleccion de tweets, analisis sentimental y generacion de csv)"
   ]
  },
  {
   "cell_type": "code",
   "execution_count": 2,
   "id": "37265fa5",
   "metadata": {},
   "outputs": [
    {
     "name": "stderr",
     "output_type": "stream",
     "text": [
      "2021-06-18 09:17:57,971 [INFO] lithops.config -- Lithops v2.3.4\n",
      "2021-06-18 09:17:57,985 [INFO] lithops.storage.backends.ibm_cos.ibm_cos -- IBM COS Storage client created - Region: eu-de\n",
      "2021-06-18 09:17:57,988 [INFO] lithops.serverless.backends.ibm_cf.ibm_cf -- IBM CF client created - Region: eu-de - Namespace: SDPrac2\n",
      "2021-06-18 09:17:57,989 [INFO] lithops.executors -- Serverless Executor created with ID: be5b19-0\n",
      "2021-06-18 09:17:57,989 [INFO] lithops.invokers -- ExecutorID be5b19-0 | JobID M000 - Selected Runtime: ismaelhg2000/sdprac2runtime:1.0 - 256MB\n",
      "2021-06-18 09:17:57,996 [INFO] lithops.job.job -- ExecutorID be5b19-0 | JobID M000 - Uploading function and data - Total: 2.9KiB\n",
      "2021-06-18 09:17:58,399 [INFO] lithops.invokers -- ExecutorID be5b19-0 | JobID M000 - Starting function invocation: CloudWorker() - Total: 17 activations\n",
      "2021-06-18 09:17:58,412 [INFO] lithops.invokers -- ExecutorID be5b19-0 | JobID M000 - View execution logs at C:\\Users\\21May\\AppData\\Local\\Temp\\lithops\\logs\\be5b19-0-M000.log\n",
      "2021-06-18 09:17:58,413 [INFO] lithops.wait -- ExecutorID be5b19-0 - Waiting for functions to complete\n"
     ]
    },
    {
     "data": {
      "application/vnd.jupyter.widget-view+json": {
       "model_id": "ddbdb059c12248aca36154d510d01155",
       "version_major": 2,
       "version_minor": 0
      },
      "text/plain": [
       "    0%|          | 0/17  "
      ]
     },
     "metadata": {},
     "output_type": "display_data"
    },
    {
     "name": "stderr",
     "output_type": "stream",
     "text": [
      "2021-06-18 09:18:16,697 [INFO] lithops.executors -- ExecutorID be5b19-0 - Cleaning temporary data\n",
      "2021-06-18 09:18:16,701 [INFO] lithops.wait -- ExecutorID be5b19-0 - Getting results from functions\n",
      "2021-06-18 09:18:16,703 [INFO] lithops.invokers -- ExecutorID be5b19-0 | JobID M001 - Selected Runtime: ismaelhg2000/sdprac2runtime:1.0 - 256MB\n",
      "2021-06-18 09:18:16,710 [INFO] lithops.job.job -- ExecutorID be5b19-0 | JobID M001 - Uploading function and data - Total: 4.4KiB\n",
      "2021-06-18 09:18:17,068 [INFO] lithops.invokers -- ExecutorID be5b19-0 | JobID M001 - Starting function invocation: CloudWorker() - Total: 17 activations\n",
      "2021-06-18 09:18:17,078 [INFO] lithops.invokers -- ExecutorID be5b19-0 | JobID M001 - View execution logs at C:\\Users\\21May\\AppData\\Local\\Temp\\lithops\\logs\\be5b19-0-M001.log\n",
      "2021-06-18 09:18:17,081 [INFO] lithops.wait -- ExecutorID be5b19-0 - Waiting for functions to complete\n"
     ]
    },
    {
     "data": {
      "application/vnd.jupyter.widget-view+json": {
       "model_id": "5bd10544493f4c2289c29963e31f8d69",
       "version_major": 2,
       "version_minor": 0
      },
      "text/plain": [
       "    0%|          | 0/17  "
      ]
     },
     "metadata": {},
     "output_type": "display_data"
    },
    {
     "name": "stderr",
     "output_type": "stream",
     "text": [
      "2021-06-18 09:20:04,199 [INFO] lithops.executors -- ExecutorID be5b19-0 - Cleaning temporary data\n",
      "2021-06-18 09:20:04,204 [INFO] lithops.wait -- ExecutorID be5b19-0 - Getting results from functions\n"
     ]
    }
   ],
   "source": [
    "%run Twitter_Analyzer.py"
   ]
  },
  {
   "cell_type": "code",
   "execution_count": 3,
   "id": "573e1dc6",
   "metadata": {},
   "outputs": [],
   "source": [
    "# Ejecutamos la funcion que nos devolvera la media del analisis sentimental de cada comunidad, para posteriormente plottearla"
   ]
  },
  {
   "cell_type": "code",
   "execution_count": 4,
   "id": "ddc357cf",
   "metadata": {},
   "outputs": [],
   "source": [
    "# Se ejecutara en paralelo por cada comunidad"
   ]
  },
  {
   "cell_type": "code",
   "execution_count": 5,
   "id": "d07e9051",
   "metadata": {},
   "outputs": [
    {
     "name": "stderr",
     "output_type": "stream",
     "text": [
      "2021-06-18 09:20:04,246 [INFO] lithops.config -- Lithops v2.3.4\n",
      "2021-06-18 09:20:04,256 [INFO] lithops.storage.backends.ibm_cos.ibm_cos -- IBM COS Storage client created - Region: eu-de\n",
      "2021-06-18 09:20:04,260 [INFO] lithops.serverless.backends.ibm_cf.ibm_cf -- IBM CF client created - Region: eu-de - Namespace: SDPrac2\n",
      "2021-06-18 09:20:04,261 [INFO] lithops.executors -- Serverless Executor created with ID: be5b19-1\n",
      "2021-06-18 09:20:04,261 [INFO] lithops.invokers -- ExecutorID be5b19-1 | JobID M000 - Selected Runtime: ismaelhg2000/sdprac2runtime:1.0 - 256MB\n",
      "2021-06-18 09:20:04,267 [INFO] lithops.job.job -- ExecutorID be5b19-1 | JobID M000 - Uploading function and data - Total: 4.1KiB\n",
      "2021-06-18 09:20:04,723 [INFO] lithops.invokers -- ExecutorID be5b19-1 | JobID M000 - Starting function invocation: CloudWorker() - Total: 17 activations\n",
      "2021-06-18 09:20:04,733 [INFO] lithops.invokers -- ExecutorID be5b19-1 | JobID M000 - View execution logs at C:\\Users\\21May\\AppData\\Local\\Temp\\lithops\\logs\\be5b19-1-M000.log\n",
      "2021-06-18 09:20:04,737 [INFO] lithops.wait -- ExecutorID be5b19-1 - Waiting for functions to complete\n"
     ]
    },
    {
     "data": {
      "application/vnd.jupyter.widget-view+json": {
       "model_id": "575617e4a203466b8cffb664f2060bae",
       "version_major": 2,
       "version_minor": 0
      },
      "text/plain": [
       "    0%|          | 0/17  "
      ]
     },
     "metadata": {},
     "output_type": "display_data"
    },
    {
     "name": "stderr",
     "output_type": "stream",
     "text": [
      "2021-06-18 09:20:09,828 [INFO] lithops.wait -- ExecutorID be5b19-1 - Getting results from functions\n"
     ]
    },
    {
     "data": {
      "application/vnd.jupyter.widget-view+json": {
       "model_id": "c1bd2894bd624ac785e8bb1f79be272f",
       "version_major": 2,
       "version_minor": 0
      },
      "text/plain": [
       "    0%|          | 0/17  "
      ]
     },
     "metadata": {},
     "output_type": "display_data"
    },
    {
     "name": "stderr",
     "output_type": "stream",
     "text": [
      "2021-06-18 09:20:10,223 [INFO] lithops.executors -- ExecutorID be5b19-1 - Cleaning temporary data\n"
     ]
    }
   ],
   "source": [
    "with Pool() as pool:\n",
    "    res = pool.starmap(sentymental_mean, LISTACOMUNIDADES)"
   ]
  },
  {
   "cell_type": "code",
   "execution_count": 6,
   "id": "ea9ad907",
   "metadata": {},
   "outputs": [],
   "source": [
    "# Convertimos las medias a un dataframe, para mostrarlas y plottearlas"
   ]
  },
  {
   "cell_type": "code",
   "execution_count": 7,
   "id": "7aa5128d",
   "metadata": {},
   "outputs": [],
   "source": [
    "df = pd.DataFrame(res,columns=[\"Sentiment\",\"CCAA\"])"
   ]
  },
  {
   "cell_type": "code",
   "execution_count": 8,
   "id": "5a0a92bd",
   "metadata": {},
   "outputs": [],
   "source": [
    "# Las mostramos"
   ]
  },
  {
   "cell_type": "code",
   "execution_count": 9,
   "id": "f7e0bd60",
   "metadata": {},
   "outputs": [
    {
     "data": {
      "text/html": [
       "<div>\n",
       "<style scoped>\n",
       "    .dataframe tbody tr th:only-of-type {\n",
       "        vertical-align: middle;\n",
       "    }\n",
       "\n",
       "    .dataframe tbody tr th {\n",
       "        vertical-align: top;\n",
       "    }\n",
       "\n",
       "    .dataframe thead th {\n",
       "        text-align: right;\n",
       "    }\n",
       "</style>\n",
       "<table border=\"1\" class=\"dataframe\">\n",
       "  <thead>\n",
       "    <tr style=\"text-align: right;\">\n",
       "      <th></th>\n",
       "      <th>Sentiment</th>\n",
       "      <th>CCAA</th>\n",
       "    </tr>\n",
       "  </thead>\n",
       "  <tbody>\n",
       "    <tr>\n",
       "      <th>0</th>\n",
       "      <td>0.081260</td>\n",
       "      <td>catalunya</td>\n",
       "    </tr>\n",
       "    <tr>\n",
       "      <th>1</th>\n",
       "      <td>0.136298</td>\n",
       "      <td>andalucia</td>\n",
       "    </tr>\n",
       "    <tr>\n",
       "      <th>2</th>\n",
       "      <td>0.233342</td>\n",
       "      <td>aragon</td>\n",
       "    </tr>\n",
       "    <tr>\n",
       "      <th>3</th>\n",
       "      <td>0.073400</td>\n",
       "      <td>asturias</td>\n",
       "    </tr>\n",
       "    <tr>\n",
       "      <th>4</th>\n",
       "      <td>0.670500</td>\n",
       "      <td>cantabria</td>\n",
       "    </tr>\n",
       "    <tr>\n",
       "      <th>5</th>\n",
       "      <td>0.290640</td>\n",
       "      <td>castilla y leon</td>\n",
       "    </tr>\n",
       "    <tr>\n",
       "      <th>6</th>\n",
       "      <td>-0.042600</td>\n",
       "      <td>castilla la mancha</td>\n",
       "    </tr>\n",
       "    <tr>\n",
       "      <th>7</th>\n",
       "      <td>0.077175</td>\n",
       "      <td>valencia</td>\n",
       "    </tr>\n",
       "    <tr>\n",
       "      <th>8</th>\n",
       "      <td>0.004136</td>\n",
       "      <td>extremadura</td>\n",
       "    </tr>\n",
       "    <tr>\n",
       "      <th>9</th>\n",
       "      <td>0.030708</td>\n",
       "      <td>galicia</td>\n",
       "    </tr>\n",
       "    <tr>\n",
       "      <th>10</th>\n",
       "      <td>-0.039768</td>\n",
       "      <td>madrid</td>\n",
       "    </tr>\n",
       "    <tr>\n",
       "      <th>11</th>\n",
       "      <td>0.142623</td>\n",
       "      <td>murcia</td>\n",
       "    </tr>\n",
       "    <tr>\n",
       "      <th>12</th>\n",
       "      <td>0.290620</td>\n",
       "      <td>navarra</td>\n",
       "    </tr>\n",
       "    <tr>\n",
       "      <th>13</th>\n",
       "      <td>-0.198125</td>\n",
       "      <td>pais vasco</td>\n",
       "    </tr>\n",
       "    <tr>\n",
       "      <th>14</th>\n",
       "      <td>0.094243</td>\n",
       "      <td>rioja</td>\n",
       "    </tr>\n",
       "    <tr>\n",
       "      <th>15</th>\n",
       "      <td>-0.013717</td>\n",
       "      <td>baleares</td>\n",
       "    </tr>\n",
       "    <tr>\n",
       "      <th>16</th>\n",
       "      <td>0.231531</td>\n",
       "      <td>canarias</td>\n",
       "    </tr>\n",
       "  </tbody>\n",
       "</table>\n",
       "</div>"
      ],
      "text/plain": [
       "    Sentiment                CCAA\n",
       "0    0.081260           catalunya\n",
       "1    0.136298           andalucia\n",
       "2    0.233342              aragon\n",
       "3    0.073400            asturias\n",
       "4    0.670500           cantabria\n",
       "5    0.290640     castilla y leon\n",
       "6   -0.042600  castilla la mancha\n",
       "7    0.077175            valencia\n",
       "8    0.004136         extremadura\n",
       "9    0.030708             galicia\n",
       "10  -0.039768              madrid\n",
       "11   0.142623              murcia\n",
       "12   0.290620             navarra\n",
       "13  -0.198125          pais vasco\n",
       "14   0.094243               rioja\n",
       "15  -0.013717            baleares\n",
       "16   0.231531            canarias"
      ]
     },
     "execution_count": 9,
     "metadata": {},
     "output_type": "execute_result"
    }
   ],
   "source": [
    "df.head(17)"
   ]
  },
  {
   "cell_type": "code",
   "execution_count": 10,
   "id": "0edca43f",
   "metadata": {},
   "outputs": [],
   "source": [
    "# Empezamos a importar librerias para el plotting"
   ]
  },
  {
   "cell_type": "code",
   "execution_count": 11,
   "id": "b78a18ef",
   "metadata": {},
   "outputs": [],
   "source": [
    "import geopandas as gpd\n",
    "import matplotlib.pyplot as plt"
   ]
  },
  {
   "cell_type": "code",
   "execution_count": 12,
   "id": "1097dbd1",
   "metadata": {},
   "outputs": [],
   "source": [
    "# Leemos fichero de contorno (shapefile) del mapa"
   ]
  },
  {
   "cell_type": "code",
   "execution_count": 21,
   "id": "2c7b9fa4",
   "metadata": {},
   "outputs": [],
   "source": [
    "espania = gpd.read_file(\"data/gadm36_ESP_1.shp\", encoding='utf-8')"
   ]
  },
  {
   "cell_type": "code",
   "execution_count": 14,
   "id": "bbc3d36d",
   "metadata": {},
   "outputs": [],
   "source": [
    "# Mergeamos las dos tablas, se asociara cada comunidad con su valor, para el plotting"
   ]
  },
  {
   "cell_type": "code",
   "execution_count": 22,
   "id": "47a250aa",
   "metadata": {},
   "outputs": [],
   "source": [
    "espania = espania.merge(df, left_on=['NAME_1'],right_on=['CCAA'], how='left')"
   ]
  },
  {
   "cell_type": "code",
   "execution_count": 16,
   "id": "7c2e8daf",
   "metadata": {},
   "outputs": [],
   "source": [
    "# Definimos el tamaño del plot"
   ]
  },
  {
   "cell_type": "code",
   "execution_count": 23,
   "id": "5b668c3e",
   "metadata": {},
   "outputs": [],
   "source": [
    "plt.rcParams[\"figure.figsize\"]=20,20"
   ]
  },
  {
   "cell_type": "code",
   "execution_count": 18,
   "id": "4d50e004",
   "metadata": {},
   "outputs": [],
   "source": [
    "# Plotteamos en forma de mapa, el mas negativo se representara en rojo y el mas positivo en verde"
   ]
  },
  {
   "cell_type": "code",
   "execution_count": 24,
   "id": "3d4e3f0e",
   "metadata": {},
   "outputs": [
    {
     "data": {
      "image/png": "[encoded data removed]",
      "text/plain": [
       "<Figure size 1440x1440 with 1 Axes>"
      ]
     },
     "metadata": {
      "needs_background": "light"
     },
     "output_type": "display_data"
    }
   ],
   "source": [
    "my_map = espania.plot(column=\"Sentiment\", linewidth=0.3, cmap=\"RdYlGn\", scheme=\"quantiles\", k=10, alpha=1.0)"
   ]
  },
  {
   "cell_type": "code",
   "execution_count": null,
   "id": "84158345",
   "metadata": {},
   "outputs": [],
   "source": []
  }
 ],
 "metadata": {
  "kernelspec": {
   "display_name": "Python 3",
   "language": "python",
   "name": "python3"
  },
  "language_info": {
   "codemirror_mode": {
    "name": "ipython",
    "version": 3
   },
   "file_extension": ".py",
   "mimetype": "text/x-python",
   "name": "python",
   "nbconvert_exporter": "python",
   "pygments_lexer": "ipython3",
   "version": "3.7.9"
  }
 },
 "nbformat": 4,
 "nbformat_minor": 5
}
